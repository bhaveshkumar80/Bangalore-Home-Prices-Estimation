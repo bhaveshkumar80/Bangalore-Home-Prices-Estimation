{
  "nbformat": 4,
  "nbformat_minor": 0,
  "metadata": {
    "colab": {
      "name": "LMS2.ipynb",
      "provenance": [],
      "collapsed_sections": [],
      "mount_file_id": "1ptlcJNy-Q9RAnwXkfNS-HAPyiXFTgDwB",
      "authorship_tag": "ABX9TyMhfC9RZWC56GZkf1ebwLOD",
      "include_colab_link": true
    },
    "kernelspec": {
      "name": "python3",
      "display_name": "Python 3"
    },
    "language_info": {
      "name": "python"
    }
  },
  "cells": [
    {
      "cell_type": "markdown",
      "metadata": {
        "id": "view-in-github",
        "colab_type": "text"
      },
      "source": [
        "<a href=\"https://colab.research.google.com/github/bhaveshkumar80/Bangalore-Home-Prices-Estimation/blob/master/LMS2.ipynb\" target=\"_parent\"><img src=\"https://colab.research.google.com/assets/colab-badge.svg\" alt=\"Open In Colab\"/></a>"
      ]
    },
    {
      "cell_type": "code",
      "metadata": {
        "id": "Dp_4Cv34yn_j"
      },
      "source": [
        "import time\n",
        "import pandas as pd\n",
        "import numpy as np\n",
        "\n",
        "from sklearn.linear_model import Ridge\n",
        "\n",
        "from sklearn.metrics import mean_squared_error as mse\n",
        "from sklearn.metrics import r2_score, mean_absolute_error\n",
        "from sklearn.model_selection import train_test_split\n",
        "import math\n",
        "import pytz\n",
        "\n",
        "from scipy.stats import norm\n",
        "from datetime import timedelta, datetime\n",
        "\n",
        "from warnings import filterwarnings\n",
        "filterwarnings('ignore')"
      ],
      "execution_count": 1,
      "outputs": []
    },
    {
      "cell_type": "code",
      "metadata": {
        "id": "Z8KoY0XXyK6O"
      },
      "source": [
        "def Load_management_system(df, total_range, date=None, Accuracy=False):\n",
        "\n",
        "  def date_changer(date):\n",
        "\n",
        "    '''Change string date to datetime formate for easy access'''\n",
        "    if date is None:\n",
        "      date = datetime.today()\n",
        "    else:\n",
        "      date = date.split('/')\n",
        "      date = datetime(int(date[2]), int(date[1]), int(date[0]))\n",
        "    return date\n",
        "\n",
        "  def Data_Preprocessing(df):\n",
        "    '''\n",
        "      It convert data into linear transformation for model training\n",
        "    '''\n",
        "    last_date = df['Date'].to_list()[-1]\n",
        "    first_date = df['Date'][0]\n",
        "    num_of_days = last_date - first_date \n",
        "\n",
        "    ldf = pd.DataFrame(columns=['Sun', 'Mon', 'Tue', 'Wed', 'Thu', 'Fri', 'Sat'])\n",
        "    dates = []\n",
        "    week_dict = {'Sun': 0, 'Mon': 0, 'Tue': 0, 'Wed': 0, 'Thu': 0, 'Fri': 0, 'Sat': 0}\n",
        "    full_charge_dates = df['Date'][df['Full Charge'] == 1]\n",
        "    for i in (first_date + timedelta(n) for n in range(num_of_days.days+1)):\n",
        "      week_dict[i.strftime('%a')] += 1\n",
        "      if i in df['Date'][df['Full Charge'] == 1].values:\n",
        "        dates.append(i)\n",
        "        ldf = ldf.append(week_dict, ignore_index=True)\n",
        "        week_dict = {'Sun': 0, 'Mon': 0, 'Tue': 0, 'Wed': 0, 'Thu': 0, 'Fri': 0, 'Sat': 0}\n",
        "\n",
        "    ldf['Date'] = dates\n",
        "\n",
        "    km_driven = []\n",
        "    add = 0\n",
        "    for ra, fc in zip(df['Range Added'].values, df['Full Charge'].values):\n",
        "      add += ra\n",
        "      if fc == 1:\n",
        "        km_driven.append(add)\n",
        "        add = 0\n",
        "\n",
        "    ldf['km_driven'] = km_driven\n",
        "    ldf = ldf[1:]\n",
        "    return ldf\n",
        "\n",
        "  def Model_for_less_data(ldf, y_test):\n",
        "    ''' Divide km_driven into equal part of days driven'''\n",
        "    df = ldf.drop('Date', axis=1)\n",
        "    add = 0\n",
        "    for col in df.columns[:-1]:\n",
        "      add += df[col].sum()\n",
        "\n",
        "    each_day = df['km_driven'].sum() / add\n",
        "\n",
        "    driven_distance = sum(y_test) * each_day\n",
        "    return driven_distance\n",
        "  \n",
        "  def model_training(dff):\n",
        "    ''' Ridge regresson model'''\n",
        "    X = dff.drop(['Date', 'km_driven'], axis=1)\n",
        "    y = dff['km_driven']\n",
        "\n",
        "    model = Ridge(alpha=0.2)\n",
        "    model.fit(X, y)\n",
        "\n",
        "    return model\n",
        "\n",
        "  def Linear_Transformation(last_date, new_date):\n",
        "\n",
        "    ''' Linear Transformation for test data'''\n",
        "\n",
        "    print(f'Last plugged in date: {last_date.strftime(\"%d-%m-%Y\")}, Weekday: {last_date.strftime(\"%A\")}')\n",
        "\n",
        "    new_date = date_changer(new_date)\n",
        "    print(f'\\nEstimation on Date: {new_date.strftime(\"%d-%m-%Y\")}, Weekday: {new_date.strftime(\"%A\")}')\n",
        "\n",
        "    num_of_days = new_date - last_date \n",
        "    \n",
        "    if num_of_days.days >= 0:\n",
        "      week_dict = {'Sun': 0, 'Mon': 0, 'Tue':0, 'Wed':0, 'Thu':0, 'Fri': 0, 'Sat': 0}\n",
        "\n",
        "      total_weeks = []\n",
        "      for d in (last_date + timedelta(n) for n in range(1, num_of_days.days + 1)):\n",
        "        total_weeks.append(d.strftime('%a'))\n",
        "\n",
        "      for w in total_weeks:\n",
        "        week_dict[w] += 1\n",
        "\n",
        "      y_test = [week_dict['Sun'], week_dict['Mon'], week_dict['Tue'], week_dict['Wed'], week_dict['Thu'],\n",
        "                week_dict['Fri'], week_dict['Sat']]\n",
        "\n",
        "      return y_test\n",
        "\n",
        "    else:\n",
        "      y_test = [0, 0, 0, 0, 0, 0, 0]\n",
        "      return y_test\n",
        "\n",
        "  def model_evalution(model, y_test):\n",
        "\n",
        "    if max(y_test) > 0:\n",
        "      driven_distance = model.predict([y_test])[0]\n",
        "    else:\n",
        "      driven_distance = 0\n",
        "    return driven_distance\n",
        "\n",
        "  def Mean_Std_of_Plugin_Date(df):\n",
        "\n",
        "    data = df['Range left'].values\n",
        "\n",
        "    mean = np.mean(data)                                            \n",
        "    std = np.std(data)\n",
        "\n",
        "    return mean, std\n",
        "\n",
        "  def hrs_to_min(x):\n",
        "    x = str(x).split(':')\n",
        "    x = int(x[0]) * 60 + int(x[1])\n",
        "    return x\n",
        "\n",
        "  def min_to_hrs(m):\n",
        "    hr = str(m // 60)\n",
        "    min = str(m % 60)\n",
        "    if len(min) == 1:\n",
        "      min = str(0) + min\n",
        "    return ':'.join([hr, min])\n",
        "\n",
        "  def Mean_Std_of_Plugin_Time(df, date):\n",
        "\n",
        "    df['plugin_min'] = df['Plug In'].apply(lambda x: hrs_to_min(x))\n",
        "    df['plugout_min'] = df['Plug Out'].apply(lambda x: hrs_to_min(x))\n",
        "\n",
        "    def Plug_time_range(x, y):\n",
        "      plug_sec = datetime.strptime(y, '%H:%M:%S.%f') - datetime.strptime(x, '%H:%M:%S.%f')\n",
        "      plug_min = plug_sec.seconds / 60\n",
        "      return plug_min\n",
        "\n",
        "    time_mins = []\n",
        "    for x, y in zip(df['Plug In'], df['Plug Out']):\n",
        "      time_mins.append(Plug_time_range(x, y))\n",
        "\n",
        "    df['Plug_time_min'] = time_mins\n",
        "\n",
        "    date = date_changer(date)\n",
        "    day = date.strftime('%a')\n",
        "\n",
        "    # Using each week day for calculating mean and std if any week day not present then average of weekdays and same for weekends \n",
        "    if day == 'Mon':\n",
        "      if 'Mon' in df['DOW'].values:\n",
        "        weekday_df = df[df['DOW'] == 'Mon']\n",
        "      else:\n",
        "        weekday_df = df[~((df['DOW'] == 'Sat') | (df['DOW'] == 'Sun'))]\n",
        "\n",
        "    if day == 'Tue':\n",
        "      if 'Tue' in df['DOW'].values:\n",
        "        weekday_df = df[df['DOW'] == 'Tue']\n",
        "      else:\n",
        "        weekday_df = df[~((df['DOW'] == 'Sat') | (df['DOW'] == 'Sun'))]\n",
        "        \n",
        "    if day == 'Wed':\n",
        "      if 'Wed' in df['DOW'].values:\n",
        "        weekday_df = df[df['DOW'] == 'Wed']\n",
        "      else:\n",
        "        weekday_df = df[~((df['DOW'] == 'Sat') | (df['DOW'] == 'Sun'))]\n",
        "\n",
        "    if day == 'Thu':\n",
        "      if 'Thu' in df['DOW'].values:\n",
        "        weekday_df = df[df['DOW'] == 'Thu']\n",
        "      else:\n",
        "        weekday_df = df[~((df['DOW'] == 'Sat') | (df['DOW'] == 'Sun'))]\n",
        "\n",
        "    if day == 'Fri':\n",
        "      if 'Fri' in df['DOW'].values:\n",
        "        weekday_df = df[df['DOW'] == 'Fri']\n",
        "      else:\n",
        "        weekday_df = df[~((df['DOW'] == 'Sat') | (df['DOW'] == 'Sun'))]\n",
        "\n",
        "    if day == 'Sat':\n",
        "      if 'Sat' in df['DOW'].values:\n",
        "        weekday_df = df[df['DOW'] == 'Sat']\n",
        "      else:\n",
        "        if 'Sun' in df['DOW'].values:\n",
        "          weekday_df = df[df['DOW'] == 'Sun']\n",
        "        else:\n",
        "          weekday_df = df[~((df['DOW'] == 'Sat') | (df['DOW'] == 'Sun'))]\n",
        "\n",
        "    if day == 'Sun':\n",
        "      if 'Sun' in df['DOW'].values:\n",
        "        weekday_df = df[df['DOW'] == 'Sun']\n",
        "      else:\n",
        "        if 'Sat' in df['DOW'].values:\n",
        "          weekday_df = df[df['DOW'] == 'Sat']\n",
        "        else:\n",
        "          weekday_df = df[~((df['DOW'] == 'Sat') | (df['DOW'] == 'Sun'))]\n",
        "\n",
        "\n",
        "    plugin_mean = np.mean(weekday_df['plugin_min'])\n",
        "    plugin_std = np.std(weekday_df['plugin_min'])\n",
        "\n",
        "    plugout_mean = np.mean(weekday_df['plugout_min'])\n",
        "    plugout_std = np.std(weekday_df['plugout_min'])\n",
        "\n",
        "    plug_time_range_mean = np.mean(weekday_df['Plug_time_min'])\n",
        "    plug_time_range_std = np.std(weekday_df['Plug_time_min'])\n",
        "\n",
        "    return plugin_mean, plugin_std, plugout_mean, plugout_std, plug_time_range_mean, plug_time_range_std\n",
        "\n",
        "  km_per_kwh = 6.6\n",
        "  df['Range Added'] = df['kWh Added'].apply(lambda x: x * km_per_kwh)\n",
        "  df['DOW'] = df['Date'].apply(lambda x: x.strftime('%a'))\n",
        "  df['Range left'] = df['Range Added'].apply(lambda x: total_range - x)\n",
        "\n",
        "  dt1 = time.time()\n",
        "  ldf = Data_Preprocessing(df)\n",
        "  dt2 = time.time()\n",
        "  print(f'Time in Data Preprocessing: {round((dt2 - dt1), 3)}')\n",
        "\n",
        "  lt1 = time.time()\n",
        "  last_date = df['Date'].tolist()[-1]\n",
        "  new_date = date\n",
        "  y_test = Linear_Transformation(last_date, new_date)\n",
        "\n",
        "  if ldf.shape[0] > 0:\n",
        "\n",
        "    sun = [1, 0, 0, 0, 0, 0, 0]\n",
        "    mon = [0, 1, 0, 0, 0, 0, 0]\n",
        "    tue = [0, 0, 1, 0, 0, 0, 0]\n",
        "    wed = [0, 0, 0, 1, 0, 0, 0]\n",
        "    thu = [0, 0, 0, 0, 1, 0, 0]\n",
        "    fri = [0, 0, 0, 0, 0, 1, 0]\n",
        "    sat = [0, 0, 0, 0, 0, 0, 1]\n",
        "\n",
        "    days = ['Sun', 'Mon', 'Tue', 'Wed', 'Thu', 'Fri', 'Sat']\n",
        "\n",
        "    if ldf.shape[0] >= 10:\n",
        "      mt1 = time.time()\n",
        "      model = model_training(ldf)    # Model to use when we have more data\n",
        "      mt2 = time.time()\n",
        "      print(f'Time in Model training: {round((mt2 - mt1), 3)}')\n",
        "\n",
        "      driven_distance = model_evalution(model, y_test)\n",
        "    else:\n",
        "      driven_distance = Model_for_less_data(ldf, y_test)  # model will work on less data\n",
        "  else:\n",
        "    print('There is no full charge so LDF is None')\n",
        "    \n",
        "  range_left = total_range - driven_distance\n",
        "  if range_left < 0:\n",
        "    range_left = 0\n",
        "  lt2 = time.time()\n",
        "  print(f\"Time in model evaluation: {round((lt2 - lt1), 3)}\")\n",
        "\n",
        "  met1 = time.time()\n",
        "  range_left_mean, range_left_std = Mean_Std_of_Plugin_Date(df)\n",
        "  plugin_mean, plugin_std, plugout_mean, plugout_std, plug_time_range_mean, plug_time_range_std = Mean_Std_of_Plugin_Time(df, date)\n",
        "  met2 = time.time()\n",
        "  print(f\"Time taken in Mean and std calculation : {round((met2 - met1), 2)}\")\n",
        "\n",
        "  msdf = pd.DataFrame({\n",
        "      'total_range': [total_range],\n",
        "      'max_threshold': [max(df['Range left'].values)],\n",
        "      'Range_left': [range_left],\n",
        "      'Range_left_mean': [range_left_mean],\n",
        "      'Range_left_std': [range_left_std],\n",
        "      'Plugin_mean': [plugin_mean],\n",
        "      'Plugin_std': [plugin_std],\n",
        "      'Plugout_mean': [plugout_mean],\n",
        "      'Plugout_std': [plugout_std],\n",
        "      'plug_time_range_mean': [plug_time_range_mean],\n",
        "      'plug_time_range_std': [plug_time_range_std]\n",
        "      })\n",
        "  \n",
        "  return msdf, ldf"
      ],
      "execution_count": 37,
      "outputs": []
    },
    {
      "cell_type": "code",
      "metadata": {
        "colab": {
          "base_uri": "https://localhost:8080/"
        },
        "id": "JBXRA0hFbvBl",
        "outputId": "6c6f1389-6df6-41a8-dd50-21b90cc4cb0d"
      },
      "source": [
        "t1 = time.time()\n",
        "df = pd.read_excel('/content/drive/MyDrive/Blackcoffer/Load_management_system.xlsx')[:10]\n",
        "total_range = 400\n",
        "date = '15/02/2021'         \n",
        "\n",
        "msdf, ldf = Load_management_system(df, total_range, date, Accuracy=False)\n",
        "msdf.to_csv('temp_mean_std.csv', index=False)\n",
        "t2 = time.time()\n",
        "print(f\"\\nTotal time taken : {round((t2 - t1), 3)}\")"
      ],
      "execution_count": 41,
      "outputs": [
        {
          "output_type": "stream",
          "text": [
            "Time in Data Preprocessing: 0.041\n",
            "Last plugged in date: 13-02-2021, Weekday: Saturday\n",
            "\n",
            "Estimation on Date: 15-02-2021, Weekday: Monday\n",
            "Time in model evaluation: 0.003\n",
            "Time taken in Mean and std calculation : 0.0\n",
            "\n",
            "Total time taken : 0.089\n"
          ],
          "name": "stdout"
        }
      ]
    },
    {
      "cell_type": "code",
      "metadata": {
        "colab": {
          "base_uri": "https://localhost:8080/",
          "height": 100
        },
        "id": "SGaza6f79HKB",
        "outputId": "826edde2-da86-4eb8-b630-276c9652f934"
      },
      "source": [
        "msdf"
      ],
      "execution_count": 42,
      "outputs": [
        {
          "output_type": "execute_result",
          "data": {
            "text/html": [
              "<div>\n",
              "<style scoped>\n",
              "    .dataframe tbody tr th:only-of-type {\n",
              "        vertical-align: middle;\n",
              "    }\n",
              "\n",
              "    .dataframe tbody tr th {\n",
              "        vertical-align: top;\n",
              "    }\n",
              "\n",
              "    .dataframe thead th {\n",
              "        text-align: right;\n",
              "    }\n",
              "</style>\n",
              "<table border=\"1\" class=\"dataframe\">\n",
              "  <thead>\n",
              "    <tr style=\"text-align: right;\">\n",
              "      <th></th>\n",
              "      <th>total_range</th>\n",
              "      <th>max_threshold</th>\n",
              "      <th>Range_left</th>\n",
              "      <th>Range_left_mean</th>\n",
              "      <th>Range_left_std</th>\n",
              "      <th>Plugin_mean</th>\n",
              "      <th>Plugin_std</th>\n",
              "      <th>Plugout_mean</th>\n",
              "      <th>Plugout_std</th>\n",
              "      <th>plug_time_range_mean</th>\n",
              "      <th>plug_time_range_std</th>\n",
              "    </tr>\n",
              "  </thead>\n",
              "  <tbody>\n",
              "    <tr>\n",
              "      <th>0</th>\n",
              "      <td>400</td>\n",
              "      <td>191.0</td>\n",
              "      <td>294.5</td>\n",
              "      <td>166.2</td>\n",
              "      <td>13.833293</td>\n",
              "      <td>1041.0</td>\n",
              "      <td>14.0</td>\n",
              "      <td>445.5</td>\n",
              "      <td>16.5</td>\n",
              "      <td>844.925</td>\n",
              "      <td>30.441667</td>\n",
              "    </tr>\n",
              "  </tbody>\n",
              "</table>\n",
              "</div>"
            ],
            "text/plain": [
              "   total_range  max_threshold  ...  plug_time_range_mean  plug_time_range_std\n",
              "0          400          191.0  ...               844.925            30.441667\n",
              "\n",
              "[1 rows x 11 columns]"
            ]
          },
          "metadata": {
            "tags": []
          },
          "execution_count": 42
        }
      ]
    },
    {
      "cell_type": "code",
      "metadata": {
        "id": "izqizsNuy1jF",
        "colab": {
          "base_uri": "https://localhost:8080/"
        },
        "outputId": "2e061bf4-c539-43ae-e8b5-0a252bf82590"
      },
      "source": [
        "def Model_for_less_data(ldf, y_test):\n",
        "  df = ldf.drop('Date', axis=1)\n",
        "  add = 0\n",
        "  for col in df.columns[:-1]:\n",
        "    add += df[col].sum()\n",
        "\n",
        "  each_day = df['km_driven'].sum() / add\n",
        "\n",
        "  driven_distance = sum(y_test) * each_day\n",
        "  return driven_distance\n",
        "\n",
        "Model_for_less_data(ldf, [0, 0, 0, 0, 0, 0, 0])"
      ],
      "execution_count": 9,
      "outputs": [
        {
          "output_type": "execute_result",
          "data": {
            "text/plain": [
              "161.19718309859155"
            ]
          },
          "metadata": {
            "tags": []
          },
          "execution_count": 9
        }
      ]
    },
    {
      "cell_type": "code",
      "metadata": {
        "id": "VTKgJ2M8y1t7",
        "colab": {
          "base_uri": "https://localhost:8080/"
        },
        "outputId": "71afbce9-24b5-47fa-b109-9230010934b4"
      },
      "source": [
        "ldf['km_driven'].sum()"
      ],
      "execution_count": null,
      "outputs": [
        {
          "output_type": "execute_result",
          "data": {
            "text/plain": [
              "240.0"
            ]
          },
          "metadata": {
            "tags": []
          },
          "execution_count": 59
        }
      ]
    },
    {
      "cell_type": "code",
      "metadata": {
        "colab": {
          "base_uri": "https://localhost:8080/"
        },
        "id": "hKYHHAJzt4Sh",
        "outputId": "f868e9c7-3e07-4ce4-ae67-3cd9f4a2aefc"
      },
      "source": [
        "(240 + 247 + 260 + 239 + 453 + 239 + 221)/36"
      ],
      "execution_count": null,
      "outputs": [
        {
          "output_type": "execute_result",
          "data": {
            "text/plain": [
              "52.75"
            ]
          },
          "metadata": {
            "tags": []
          },
          "execution_count": 54
        }
      ]
    },
    {
      "cell_type": "code",
      "metadata": {
        "colab": {
          "base_uri": "https://localhost:8080/"
        },
        "id": "sX_QdivW8BzN",
        "outputId": "090ae841-22d4-4cec-c632-56cf1ead204d"
      },
      "source": [
        "sun = [1, 0, 0, 0, 0, 0, 0]\n",
        "mon = [0, 1, 0, 0, 0, 0, 0]\n",
        "tue = [0, 0, 1, 0, 0, 0, 0]\n",
        "wed = [0, 0, 0, 1, 0, 0, 0]\n",
        "thu = [0, 0, 0, 0, 1, 0, 0]\n",
        "fri = [0, 0, 0, 0, 0, 1, 0]\n",
        "sat = [0, 0, 0, 0, 0, 0, 1]\n",
        "\n",
        "days = ['Sun', 'Mon', 'Tue', 'Wed', 'Thu', 'Fri', 'Sat']\n",
        "for w,d in zip(days, [sun, mon, tue, wed, thu, fri, sat]):\n",
        "  pred = Model_for_less_data(ldf, d)\n",
        "  print(f\"{w} : {pred}\")"
      ],
      "execution_count": 44,
      "outputs": [
        {
          "output_type": "stream",
          "text": [
            "Sun : 52.75\n",
            "Mon : 52.75\n",
            "Tue : 52.75\n",
            "Wed : 52.75\n",
            "Thu : 52.75\n",
            "Fri : 52.75\n",
            "Sat : 52.75\n"
          ],
          "name": "stdout"
        }
      ]
    },
    {
      "cell_type": "code",
      "metadata": {
        "colab": {
          "base_uri": "https://localhost:8080/"
        },
        "id": "QsP0LTUwsm4b",
        "outputId": "67cc5cda-a5b1-44cb-b0ba-cb0dee371dda"
      },
      "source": [
        "sun = [1, 0, 0, 0, 0, 0, 0]\n",
        "mon = [0, 1, 0, 0, 0, 0, 0]\n",
        "tue = [0, 0, 1, 0, 0, 0, 0]\n",
        "wed = [0, 0, 0, 1, 0, 0, 0]\n",
        "thu = [0, 0, 0, 0, 1, 0, 0]\n",
        "fri = [0, 0, 0, 0, 0, 1, 0]\n",
        "sat = [0, 0, 0, 0, 0, 0, 1]\n",
        "\n",
        "days = ['Sun', 'Mon', 'Tue', 'Wed', 'Thu', 'Fri', 'Sat']\n",
        "for w,d in zip(days, [sun, mon, tue, wed, thu, fri, sat]):\n",
        "  val = model.predict([d])[0]\n",
        "  print(f\"{w} : {val}\")"
      ],
      "execution_count": 24,
      "outputs": [
        {
          "output_type": "stream",
          "text": [
            "Sun : 58.93746927469669\n",
            "Mon : 58.93746927469659\n",
            "Tue : 79.72593787558729\n",
            "Wed : 73.49725457730321\n",
            "Thu : 91.76961246492404\n",
            "Fri : 71.79260651294015\n",
            "Sat : 42.35512608504645\n"
          ],
          "name": "stdout"
        }
      ]
    },
    {
      "cell_type": "code",
      "metadata": {
        "colab": {
          "base_uri": "https://localhost:8080/"
        },
        "id": "TP0hQY-qw5lt",
        "outputId": "6f8907f0-963a-4500-dc5a-e4b980893bc8"
      },
      "source": [
        "model.predict([[0, 1, 1, 1, 1, 1, 0]])"
      ],
      "execution_count": 21,
      "outputs": [
        {
          "output_type": "execute_result",
          "data": {
            "text/plain": [
              "array([359.61108701])"
            ]
          },
          "metadata": {
            "tags": []
          },
          "execution_count": 21
        }
      ]
    },
    {
      "cell_type": "code",
      "metadata": {
        "id": "NNDbFKM2z_X-"
      },
      "source": [
        "def LMS2(msdf, est_time):\n",
        "\n",
        "  def Plugin_Date_Probability(msdf):\n",
        "    total_range = msdf['total_range'][0]\n",
        "    max_threshold = msdf['max_threshold'][0]\n",
        "    range_left = msdf['Range_left'][0]\n",
        "    mean = msdf['Range_left_mean'][0]\n",
        "    std  = msdf['Range_left_std'][0]\n",
        "\n",
        "    dist = norm(mean, std)\n",
        "\n",
        "    if range_left < 0:\n",
        "      range_left = 0\n",
        "      \n",
        "    if range_left > max_threshold:                                     \n",
        "      prob = ((total_range - range_left) / (total_range - max_threshold)) * 0.05    \n",
        "                                                                          \n",
        "    else:                                                                                                                            \n",
        "      prob = 0.05 + (1 - dist.cdf(range_left)) * 0.95\n",
        "\n",
        "    return prob\n",
        "\n",
        "  def hrs_to_min(x):\n",
        "    x = str(x).split(':')\n",
        "    x = int(x[0]) * 60 + int(x[1])\n",
        "    return x\n",
        "\n",
        "  def min_to_hrs(m):\n",
        "    hr = str(m // 60)\n",
        "    min = str(m % 60)\n",
        "    if len(min) == 1:\n",
        "      min = str(0) + min\n",
        "    return ':'.join([hr, min])\n",
        "\n",
        "  def Plugin_time_Probability(est_time, msdf):\n",
        "    plugin_mean = msdf['Plugin_mean'][0]\n",
        "    plugin_std = msdf['Plugin_std'][0]\n",
        "    plugout_mean = msdf['Plugout_mean'][0]\n",
        "    plugout_std = msdf['Plugout_std'][0]\n",
        "    plug_time_range_mean = msdf['plug_time_range_mean'][0]\n",
        "    plug_time_range_std = msdf['plug_time_range_std'][0]\n",
        "\n",
        "    z_score = (hrs_to_min(est_time) - plugin_mean) / plugin_std \n",
        "\n",
        "\n",
        "    if plugin_std == 0:\n",
        "      plugin_std = 10\n",
        "\n",
        "    plugin_time_dist = norm(plugin_mean, plugin_std)\n",
        "    plugout_time_dist = norm(plugout_mean, plugout_std)\n",
        "    plug_time_range_dist = norm(plug_time_range_mean, plug_time_range_std)\n",
        "\n",
        "    print(f'Plug Out time Mean for Monday : {min_to_hrs(round(plugout_mean))}')\n",
        "    print(f'Plug Out time std for Monday : {min_to_hrs(round(plugout_std))}')\n",
        "\n",
        "    print(f'Plug time range Mean for Monday : {min_to_hrs(round(plug_time_range_mean))}')\n",
        "    print(f'Plug time range std for Monday : {min_to_hrs(round(plug_time_range_std))}')\n",
        "\n",
        "\n",
        "    if est_time is None:\n",
        "      est_time = datetime.utcnow()\n",
        "      est_time = est_time.replace(tzinfo=pytz.UTC)\n",
        "      est_time = est_time.astimezone(pytz.timezone('America/New_York'))\n",
        "      if len(str(est_time.minute)) == 1:\n",
        "        est_time = str(est_time.hour) + ':0' + str(est_time.minute)\n",
        "      else:\n",
        "        est_time = str(est_time.hour) + ':' + str(est_time.minute)\n",
        "      \n",
        "    plugin_time_prob = (1 - plugin_time_dist.cdf(hrs_to_min(est_time)))\n",
        "\n",
        "    return est_time, plugin_time_prob, z_score\n",
        "\n",
        "  range_left_prob = Plugin_Date_Probability(msdf)\n",
        "  est_time, plugin_prob, z_score = Plugin_time_Probability(est_time, msdf)\n",
        "\n",
        "  print(f\"\\nprobability of plugin (Day wise): {round(range_left_prob*100, 2)} %\")\n",
        "\n",
        "  print(f'\\nPlugin time Probability on {est_time} : {round(plugin_prob *100, 2)} %')\n",
        "  print('z_score : ', z_score)\n",
        "\n",
        "  return range_left_prob, plugin_prob"
      ],
      "execution_count": null,
      "outputs": []
    },
    {
      "cell_type": "code",
      "metadata": {
        "id": "kUDcWZLcz_cf",
        "colab": {
          "base_uri": "https://localhost:8080/"
        },
        "outputId": "2c599887-0084-4b11-cfa0-b47900e8f86d"
      },
      "source": [
        "t1 = time.time()\n",
        "msdf = pd.read_csv('temp_mean_std.csv')\n",
        "est_time = '18:00'\n",
        "LMS2(msdf, est_time)\n",
        "t2 = time.time()\n",
        "print(f'Time taken : {t2 - t1}')"
      ],
      "execution_count": null,
      "outputs": [
        {
          "output_type": "stream",
          "text": [
            "Plug Out time Mean for Monday : 7:23\n",
            "Plug Out time std for Monday : 0:21\n",
            "Plug time range Mean for Monday : 14:21\n",
            "Plug time range std for Monday : 0:35\n",
            "\n",
            "probability of plugin (Day wise): 88.8 %\n",
            "\n",
            "Plugin time Probability on 18:00 : 1.05 %\n",
            "z_score :  2.3070262507128985\n",
            "Time taken : 0.021795988082885742\n"
          ],
          "name": "stdout"
        }
      ]
    },
    {
      "cell_type": "code",
      "metadata": {
        "id": "z9OqR2NEz_hG"
      },
      "source": [
        ""
      ],
      "execution_count": null,
      "outputs": []
    },
    {
      "cell_type": "code",
      "metadata": {
        "id": "ogOmQwzM00xv"
      },
      "source": [
        "def Model_Accuracy(ldf):\n",
        "  X = ldf.drop(['Date', 'km_driven'], axis=1)\n",
        "  y = ldf['km_driven']\n",
        "  X_train, X_test, y_train, y_test = train_test_split(X, y, test_size=0.2, random_state=1)\n",
        "\n",
        "  model = Ridge(alpha=0.2)\n",
        "  model.fit(X_train, y_train)\n",
        "\n",
        "  y_pred = model.predict(X_test)\n",
        "\n",
        "  rmse = math.sqrt(mse(y_test, y_pred))\n",
        "  mae = mean_absolute_error(y_test, y_pred)\n",
        "\n",
        "  mape = np.mean(np.abs((y_test - y_pred) / y_test)) * 100\n",
        "\n",
        "  print('Root Mean Squared Error : ', rmse)\n",
        "  print('Mean Absolute Error : ', mae)\n",
        "  print('Mean Absolute Percentage Error : ', mape)"
      ],
      "execution_count": null,
      "outputs": []
    },
    {
      "cell_type": "code",
      "metadata": {
        "colab": {
          "base_uri": "https://localhost:8080/"
        },
        "id": "4o15yBexkazZ",
        "outputId": "c4e8cbb4-3a62-435f-f7cf-a81ffad232f9"
      },
      "source": [
        "m1 = time.time()\n",
        "from sklearn.model_selection import train_test_split\n",
        "Model_Accuracy(ldf)\n",
        "m2 = time.time()\n",
        "print(m2 - m1)"
      ],
      "execution_count": null,
      "outputs": [
        {
          "output_type": "stream",
          "text": [
            "Root Mean Squared Error :  4.080148880483806\n",
            "Mean Absolute Error :  4.04021739602338\n",
            "Mean Absolute Percentage Error :  1.7120634734515467\n",
            "0.007743358612060547\n"
          ],
          "name": "stdout"
        }
      ]
    },
    {
      "cell_type": "code",
      "metadata": {
        "id": "Xvvbk9rD7Khv",
        "colab": {
          "base_uri": "https://localhost:8080/",
          "height": 80
        },
        "outputId": "1b0de448-c0e8-444a-8838-09e55c41908b"
      },
      "source": [
        "mdf = pd.read_csv('temp_mean_std.csv')\n",
        "mdf"
      ],
      "execution_count": null,
      "outputs": [
        {
          "output_type": "execute_result",
          "data": {
            "text/html": [
              "<div>\n",
              "<style scoped>\n",
              "    .dataframe tbody tr th:only-of-type {\n",
              "        vertical-align: middle;\n",
              "    }\n",
              "\n",
              "    .dataframe tbody tr th {\n",
              "        vertical-align: top;\n",
              "    }\n",
              "\n",
              "    .dataframe thead th {\n",
              "        text-align: right;\n",
              "    }\n",
              "</style>\n",
              "<table border=\"1\" class=\"dataframe\">\n",
              "  <thead>\n",
              "    <tr style=\"text-align: right;\">\n",
              "      <th></th>\n",
              "      <th>Range_left</th>\n",
              "      <th>Plugin_date_mean</th>\n",
              "      <th>Plugin_date_std</th>\n",
              "      <th>Plugin_time_mean</th>\n",
              "      <th>Plugin_time_std</th>\n",
              "    </tr>\n",
              "  </thead>\n",
              "  <tbody>\n",
              "    <tr>\n",
              "      <th>0</th>\n",
              "      <td>286.911368</td>\n",
              "      <td>175.701149</td>\n",
              "      <td>20.633148</td>\n",
              "      <td>1042.733333</td>\n",
              "      <td>56.897178</td>\n",
              "    </tr>\n",
              "  </tbody>\n",
              "</table>\n",
              "</div>"
            ],
            "text/plain": [
              "   Range_left  Plugin_date_mean  ...  Plugin_time_mean  Plugin_time_std\n",
              "0  286.911368        175.701149  ...       1042.733333        56.897178\n",
              "\n",
              "[1 rows x 5 columns]"
            ]
          },
          "metadata": {
            "tags": []
          },
          "execution_count": 26
        }
      ]
    },
    {
      "cell_type": "code",
      "metadata": {
        "id": "bswrFtOizDqx"
      },
      "source": [
        "sun = [1, 0, 0, 0, 0, 0, 0]\n",
        "mon = [0, 1, 0, 0, 0, 0, 0]\n",
        "tue = [0, 0, 1, 0, 0, 0, 0]\n",
        "wed = [0, 0, 0, 1, 0, 0, 0]\n",
        "thu = [0, 0, 0, 0, 1, 0, 0]\n",
        "fri = [0, 0, 0, 0, 0, 1, 0]\n",
        "sat = [0, 0, 0, 0, 0, 0, 1]\n",
        "\n",
        "days = ['Sun', 'Mon', 'Tue', 'Wed', 'Thu', 'Fri', 'Sat']\n",
        "for w,d in zip(days, [sun, mon, tue, wed, thu, fri, sat]):\n",
        "  val = model.predict([d])[0]\n",
        "  print(f\"{w} : {val}\")"
      ],
      "execution_count": null,
      "outputs": []
    },
    {
      "cell_type": "code",
      "metadata": {
        "id": "6DVw6rsyyIew",
        "colab": {
          "base_uri": "https://localhost:8080/",
          "height": 204
        },
        "outputId": "da9505a5-79ab-467a-a1b3-c7b0f6947217"
      },
      "source": [
        "df = pd.read_excel('/content/drive/MyDrive/Blackcoffer/Load_management_system.xlsx')\n",
        "df.head()"
      ],
      "execution_count": null,
      "outputs": [
        {
          "output_type": "execute_result",
          "data": {
            "text/html": [
              "<div>\n",
              "<style scoped>\n",
              "    .dataframe tbody tr th:only-of-type {\n",
              "        vertical-align: middle;\n",
              "    }\n",
              "\n",
              "    .dataframe tbody tr th {\n",
              "        vertical-align: top;\n",
              "    }\n",
              "\n",
              "    .dataframe thead th {\n",
              "        text-align: right;\n",
              "    }\n",
              "</style>\n",
              "<table border=\"1\" class=\"dataframe\">\n",
              "  <thead>\n",
              "    <tr style=\"text-align: right;\">\n",
              "      <th></th>\n",
              "      <th>Date</th>\n",
              "      <th>Plug In</th>\n",
              "      <th>Plug Out</th>\n",
              "      <th>Full Charge</th>\n",
              "      <th>kWh Added</th>\n",
              "    </tr>\n",
              "  </thead>\n",
              "  <tbody>\n",
              "    <tr>\n",
              "      <th>0</th>\n",
              "      <td>2021-01-05</td>\n",
              "      <td>17:00:05.904000</td>\n",
              "      <td>07:30:08.256000</td>\n",
              "      <td>0</td>\n",
              "      <td>31.666667</td>\n",
              "    </tr>\n",
              "    <tr>\n",
              "      <th>1</th>\n",
              "      <td>2021-01-08</td>\n",
              "      <td>16:09:33.323000</td>\n",
              "      <td>08:00:58.655000</td>\n",
              "      <td>1</td>\n",
              "      <td>34.848485</td>\n",
              "    </tr>\n",
              "    <tr>\n",
              "      <th>2</th>\n",
              "      <td>2021-01-13</td>\n",
              "      <td>18:00:38.794000</td>\n",
              "      <td>07:26:55.397000</td>\n",
              "      <td>1</td>\n",
              "      <td>36.363636</td>\n",
              "    </tr>\n",
              "    <tr>\n",
              "      <th>3</th>\n",
              "      <td>2021-01-18</td>\n",
              "      <td>17:35:24.519000</td>\n",
              "      <td>07:09:54.241000</td>\n",
              "      <td>1</td>\n",
              "      <td>37.424242</td>\n",
              "    </tr>\n",
              "    <tr>\n",
              "      <th>4</th>\n",
              "      <td>2021-01-22</td>\n",
              "      <td>16:57:43.110000</td>\n",
              "      <td>08:12:03.347000</td>\n",
              "      <td>1</td>\n",
              "      <td>39.393939</td>\n",
              "    </tr>\n",
              "  </tbody>\n",
              "</table>\n",
              "</div>"
            ],
            "text/plain": [
              "        Date          Plug In         Plug Out  Full Charge  kWh Added\n",
              "0 2021-01-05  17:00:05.904000  07:30:08.256000            0  31.666667\n",
              "1 2021-01-08  16:09:33.323000  08:00:58.655000            1  34.848485\n",
              "2 2021-01-13  18:00:38.794000  07:26:55.397000            1  36.363636\n",
              "3 2021-01-18  17:35:24.519000  07:09:54.241000            1  37.424242\n",
              "4 2021-01-22  16:57:43.110000  08:12:03.347000            1  39.393939"
            ]
          },
          "metadata": {
            "tags": []
          },
          "execution_count": 13
        }
      ]
    },
    {
      "cell_type": "code",
      "metadata": {
        "colab": {
          "base_uri": "https://localhost:8080/",
          "height": 204
        },
        "id": "cnE0RV31TeW7",
        "outputId": "74cda4bf-2b9a-4bf0-e078-76bb1312179c"
      },
      "source": [
        "def hrs_to_min(x):\n",
        "  x = str(x).split(':')\n",
        "  x = int(x[0]) * 60 + int(x[1])\n",
        "  return x\n",
        "\n",
        "df['Plugout_min'] = df['Plug Out'].apply(lambda x: hrs_to_min(x))\n",
        "df['Plugin_min'] = df['Plug In'].apply(lambda x: hrs_to_min(x))\n",
        "df['DOW'] = df['Date'].apply(lambda x: x.strftime('%a'))\n",
        "df.head()  "
      ],
      "execution_count": null,
      "outputs": [
        {
          "output_type": "execute_result",
          "data": {
            "text/html": [
              "<div>\n",
              "<style scoped>\n",
              "    .dataframe tbody tr th:only-of-type {\n",
              "        vertical-align: middle;\n",
              "    }\n",
              "\n",
              "    .dataframe tbody tr th {\n",
              "        vertical-align: top;\n",
              "    }\n",
              "\n",
              "    .dataframe thead th {\n",
              "        text-align: right;\n",
              "    }\n",
              "</style>\n",
              "<table border=\"1\" class=\"dataframe\">\n",
              "  <thead>\n",
              "    <tr style=\"text-align: right;\">\n",
              "      <th></th>\n",
              "      <th>Date</th>\n",
              "      <th>Plug In</th>\n",
              "      <th>Plug Out</th>\n",
              "      <th>Full Charge</th>\n",
              "      <th>kWh Added</th>\n",
              "      <th>Plugout_min</th>\n",
              "      <th>Plugin_min</th>\n",
              "      <th>DOW</th>\n",
              "    </tr>\n",
              "  </thead>\n",
              "  <tbody>\n",
              "    <tr>\n",
              "      <th>0</th>\n",
              "      <td>2021-01-05</td>\n",
              "      <td>17:00:05.904000</td>\n",
              "      <td>07:30:08.256000</td>\n",
              "      <td>0</td>\n",
              "      <td>31.666667</td>\n",
              "      <td>450</td>\n",
              "      <td>1020</td>\n",
              "      <td>Tue</td>\n",
              "    </tr>\n",
              "    <tr>\n",
              "      <th>1</th>\n",
              "      <td>2021-01-08</td>\n",
              "      <td>16:09:33.323000</td>\n",
              "      <td>08:00:58.655000</td>\n",
              "      <td>1</td>\n",
              "      <td>34.848485</td>\n",
              "      <td>480</td>\n",
              "      <td>969</td>\n",
              "      <td>Fri</td>\n",
              "    </tr>\n",
              "    <tr>\n",
              "      <th>2</th>\n",
              "      <td>2021-01-13</td>\n",
              "      <td>18:00:38.794000</td>\n",
              "      <td>07:26:55.397000</td>\n",
              "      <td>1</td>\n",
              "      <td>36.363636</td>\n",
              "      <td>446</td>\n",
              "      <td>1080</td>\n",
              "      <td>Wed</td>\n",
              "    </tr>\n",
              "    <tr>\n",
              "      <th>3</th>\n",
              "      <td>2021-01-18</td>\n",
              "      <td>17:35:24.519000</td>\n",
              "      <td>07:09:54.241000</td>\n",
              "      <td>1</td>\n",
              "      <td>37.424242</td>\n",
              "      <td>429</td>\n",
              "      <td>1055</td>\n",
              "      <td>Mon</td>\n",
              "    </tr>\n",
              "    <tr>\n",
              "      <th>4</th>\n",
              "      <td>2021-01-22</td>\n",
              "      <td>16:57:43.110000</td>\n",
              "      <td>08:12:03.347000</td>\n",
              "      <td>1</td>\n",
              "      <td>39.393939</td>\n",
              "      <td>492</td>\n",
              "      <td>1017</td>\n",
              "      <td>Fri</td>\n",
              "    </tr>\n",
              "  </tbody>\n",
              "</table>\n",
              "</div>"
            ],
            "text/plain": [
              "        Date          Plug In         Plug Out  ...  Plugout_min  Plugin_min  DOW\n",
              "0 2021-01-05  17:00:05.904000  07:30:08.256000  ...          450        1020  Tue\n",
              "1 2021-01-08  16:09:33.323000  08:00:58.655000  ...          480         969  Fri\n",
              "2 2021-01-13  18:00:38.794000  07:26:55.397000  ...          446        1080  Wed\n",
              "3 2021-01-18  17:35:24.519000  07:09:54.241000  ...          429        1055  Mon\n",
              "4 2021-01-22  16:57:43.110000  08:12:03.347000  ...          492        1017  Fri\n",
              "\n",
              "[5 rows x 8 columns]"
            ]
          },
          "metadata": {
            "tags": []
          },
          "execution_count": 14
        }
      ]
    },
    {
      "cell_type": "code",
      "metadata": {
        "colab": {
          "base_uri": "https://localhost:8080/",
          "height": 333
        },
        "id": "mzzsBwUUUnZZ",
        "outputId": "9a476d7e-b1ac-4276-e60c-e4839a27662b"
      },
      "source": [
        "import matplotlib.pyplot as plt\n",
        "plt.hist(df['Plugout_min'])"
      ],
      "execution_count": null,
      "outputs": [
        {
          "output_type": "execute_result",
          "data": {
            "text/plain": [
              "(array([ 6., 12., 34., 21.,  5.,  5.,  2.,  1.,  0.,  1.]),\n",
              " array([358. , 392.4, 426.8, 461.2, 495.6, 530. , 564.4, 598.8, 633.2,\n",
              "        667.6, 702. ]),\n",
              " <a list of 10 Patch objects>)"
            ]
          },
          "metadata": {
            "tags": []
          },
          "execution_count": 15
        },
        {
          "output_type": "display_data",
          "data": {
            "image/png": "[encoded data removed]",
            "text/plain": [
              "<Figure size 432x288 with 1 Axes>"
            ]
          },
          "metadata": {
            "tags": [],
            "needs_background": "light"
          }
        }
      ]
    },
    {
      "cell_type": "code",
      "metadata": {
        "colab": {
          "base_uri": "https://localhost:8080/"
        },
        "id": "T4pcp6CsVK2-",
        "outputId": "a52fe758-0ee8-4829-f22b-f8c0d8ff4a53"
      },
      "source": [
        "mean, std = np.mean(df['Plugout_min']), np.std(df['Plugout_min']) \n",
        "mean, std"
      ],
      "execution_count": null,
      "outputs": [
        {
          "output_type": "execute_result",
          "data": {
            "text/plain": [
              "(460.35632183908046, 52.11503125800517)"
            ]
          },
          "metadata": {
            "tags": []
          },
          "execution_count": 16
        }
      ]
    },
    {
      "cell_type": "code",
      "metadata": {
        "colab": {
          "base_uri": "https://localhost:8080/",
          "height": 351
        },
        "id": "QAA5hyv2V_K-",
        "outputId": "b811028c-d0a6-4d43-d050-817becd6c75e"
      },
      "source": [
        "import seaborn as sns\n",
        "plt.figure(figsize=(8, 5))\n",
        "sns.boxplot(x = 'DOW', y = 'Plugout_min', data=df)"
      ],
      "execution_count": null,
      "outputs": [
        {
          "output_type": "execute_result",
          "data": {
            "text/plain": [
              "<matplotlib.axes._subplots.AxesSubplot at 0x7fc599eb3b50>"
            ]
          },
          "metadata": {
            "tags": []
          },
          "execution_count": 30
        },
        {
          "output_type": "display_data",
          "data": {
            "image/png": "[encoded data removed]",
            "text/plain": [
              "<Figure size 576x360 with 1 Axes>"
            ]
          },
          "metadata": {
            "tags": [],
            "needs_background": "light"
          }
        }
      ]
    },
    {
      "cell_type": "code",
      "metadata": {
        "colab": {
          "base_uri": "https://localhost:8080/",
          "height": 351
        },
        "id": "xNsSWu1mXm7i",
        "outputId": "46fd697e-4b4b-422a-8666-850f766bc242"
      },
      "source": [
        "plt.figure(figsize=(8, 5))\n",
        "sns.boxplot(x = 'DOW', y = 'Plugin_min', data=df)"
      ],
      "execution_count": null,
      "outputs": [
        {
          "output_type": "execute_result",
          "data": {
            "text/plain": [
              "<matplotlib.axes._subplots.AxesSubplot at 0x7fc59b513150>"
            ]
          },
          "metadata": {
            "tags": []
          },
          "execution_count": 18
        },
        {
          "output_type": "display_data",
          "data": {
            "image/png": "[encoded data removed]",
            "text/plain": [
              "<Figure size 576x360 with 1 Axes>"
            ]
          },
          "metadata": {
            "tags": [],
            "needs_background": "light"
          }
        }
      ]
    },
    {
      "cell_type": "code",
      "metadata": {
        "id": "7VUbZLNfe-Z7"
      },
      "source": [
        "def Plug_time_range(x, y):\n",
        "  plug_sec = datetime.strptime(y, '%H:%M:%S.%f') - datetime.strptime(x, '%H:%M:%S.%f')\n",
        "  plug_min = plug_sec.seconds / 60\n",
        "  return plug_min\n",
        "\n",
        "time_mins = []\n",
        "for x, y in zip(df['Plug In'], df['Plug Out']):\n",
        "  time_mins.append(Plug_time_range(x, y))\n",
        "\n",
        "df['Plug_time_min'] = time_mins"
      ],
      "execution_count": null,
      "outputs": []
    },
    {
      "cell_type": "code",
      "metadata": {
        "colab": {
          "base_uri": "https://localhost:8080/",
          "height": 204
        },
        "id": "KESTIlcBudrZ",
        "outputId": "b2cb5d13-5fbc-44f2-f0aa-439a022ef85d"
      },
      "source": [
        "df.head()"
      ],
      "execution_count": null,
      "outputs": [
        {
          "output_type": "execute_result",
          "data": {
            "text/html": [
              "<div>\n",
              "<style scoped>\n",
              "    .dataframe tbody tr th:only-of-type {\n",
              "        vertical-align: middle;\n",
              "    }\n",
              "\n",
              "    .dataframe tbody tr th {\n",
              "        vertical-align: top;\n",
              "    }\n",
              "\n",
              "    .dataframe thead th {\n",
              "        text-align: right;\n",
              "    }\n",
              "</style>\n",
              "<table border=\"1\" class=\"dataframe\">\n",
              "  <thead>\n",
              "    <tr style=\"text-align: right;\">\n",
              "      <th></th>\n",
              "      <th>Date</th>\n",
              "      <th>Plug In</th>\n",
              "      <th>Plug Out</th>\n",
              "      <th>Full Charge</th>\n",
              "      <th>kWh Added</th>\n",
              "      <th>Plugout_min</th>\n",
              "      <th>Plugin_min</th>\n",
              "      <th>DOW</th>\n",
              "      <th>Plug_time_min</th>\n",
              "    </tr>\n",
              "  </thead>\n",
              "  <tbody>\n",
              "    <tr>\n",
              "      <th>0</th>\n",
              "      <td>2021-01-05</td>\n",
              "      <td>17:00:05.904000</td>\n",
              "      <td>07:30:08.256000</td>\n",
              "      <td>0</td>\n",
              "      <td>31.666667</td>\n",
              "      <td>450</td>\n",
              "      <td>1020</td>\n",
              "      <td>Tue</td>\n",
              "      <td>870.033333</td>\n",
              "    </tr>\n",
              "    <tr>\n",
              "      <th>1</th>\n",
              "      <td>2021-01-08</td>\n",
              "      <td>16:09:33.323000</td>\n",
              "      <td>08:00:58.655000</td>\n",
              "      <td>1</td>\n",
              "      <td>34.848485</td>\n",
              "      <td>480</td>\n",
              "      <td>969</td>\n",
              "      <td>Fri</td>\n",
              "      <td>951.416667</td>\n",
              "    </tr>\n",
              "    <tr>\n",
              "      <th>2</th>\n",
              "      <td>2021-01-13</td>\n",
              "      <td>18:00:38.794000</td>\n",
              "      <td>07:26:55.397000</td>\n",
              "      <td>1</td>\n",
              "      <td>36.363636</td>\n",
              "      <td>446</td>\n",
              "      <td>1080</td>\n",
              "      <td>Wed</td>\n",
              "      <td>806.266667</td>\n",
              "    </tr>\n",
              "    <tr>\n",
              "      <th>3</th>\n",
              "      <td>2021-01-18</td>\n",
              "      <td>17:35:24.519000</td>\n",
              "      <td>07:09:54.241000</td>\n",
              "      <td>1</td>\n",
              "      <td>37.424242</td>\n",
              "      <td>429</td>\n",
              "      <td>1055</td>\n",
              "      <td>Mon</td>\n",
              "      <td>814.483333</td>\n",
              "    </tr>\n",
              "    <tr>\n",
              "      <th>4</th>\n",
              "      <td>2021-01-22</td>\n",
              "      <td>16:57:43.110000</td>\n",
              "      <td>08:12:03.347000</td>\n",
              "      <td>1</td>\n",
              "      <td>39.393939</td>\n",
              "      <td>492</td>\n",
              "      <td>1017</td>\n",
              "      <td>Fri</td>\n",
              "      <td>914.333333</td>\n",
              "    </tr>\n",
              "  </tbody>\n",
              "</table>\n",
              "</div>"
            ],
            "text/plain": [
              "        Date          Plug In         Plug Out  ...  Plugin_min  DOW  Plug_time_min\n",
              "0 2021-01-05  17:00:05.904000  07:30:08.256000  ...        1020  Tue     870.033333\n",
              "1 2021-01-08  16:09:33.323000  08:00:58.655000  ...         969  Fri     951.416667\n",
              "2 2021-01-13  18:00:38.794000  07:26:55.397000  ...        1080  Wed     806.266667\n",
              "3 2021-01-18  17:35:24.519000  07:09:54.241000  ...        1055  Mon     814.483333\n",
              "4 2021-01-22  16:57:43.110000  08:12:03.347000  ...        1017  Fri     914.333333\n",
              "\n",
              "[5 rows x 9 columns]"
            ]
          },
          "metadata": {
            "tags": []
          },
          "execution_count": 21
        }
      ]
    },
    {
      "cell_type": "code",
      "metadata": {
        "id": "EdzhhZv4pP71",
        "colab": {
          "base_uri": "https://localhost:8080/",
          "height": 351
        },
        "outputId": "9cb12d21-79aa-4a34-95be-f22810e5e945"
      },
      "source": [
        "plt.figure(figsize=(8, 5))\n",
        "sns.boxplot(df['DOW'], df['Plug_time_min'])"
      ],
      "execution_count": null,
      "outputs": [
        {
          "output_type": "execute_result",
          "data": {
            "text/plain": [
              "<matplotlib.axes._subplots.AxesSubplot at 0x7fc599b6d150>"
            ]
          },
          "metadata": {
            "tags": []
          },
          "execution_count": 25
        },
        {
          "output_type": "display_data",
          "data": {
            "image/png": "[encoded data removed]",
            "text/plain": [
              "<Figure size 576x360 with 1 Axes>"
            ]
          },
          "metadata": {
            "tags": [],
            "needs_background": "light"
          }
        }
      ]
    },
    {
      "cell_type": "code",
      "metadata": {
        "colab": {
          "base_uri": "https://localhost:8080/",
          "height": 282
        },
        "id": "KKwBCBPFuN-W",
        "outputId": "01504114-6fc9-4999-d412-248004e62bd7"
      },
      "source": [
        "plt.scatter(df['Plugin_min'][df['DOW'] == 'Sat'], df['Plugout_min'][df['DOW'] == 'Sat'])"
      ],
      "execution_count": null,
      "outputs": [
        {
          "output_type": "execute_result",
          "data": {
            "text/plain": [
              "<matplotlib.collections.PathCollection at 0x7fc599e8c550>"
            ]
          },
          "metadata": {
            "tags": []
          },
          "execution_count": 28
        },
        {
          "output_type": "display_data",
          "data": {
            "image/png": "[encoded data removed]",
            "text/plain": [
              "<Figure size 432x288 with 1 Axes>"
            ]
          },
          "metadata": {
            "tags": [],
            "needs_background": "light"
          }
        }
      ]
    },
    {
      "cell_type": "code",
      "metadata": {
        "id": "CgaAmima2nYI"
      },
      "source": [
        ""
      ],
      "execution_count": null,
      "outputs": []
    }
  ]
}